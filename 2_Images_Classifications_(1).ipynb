{
  "nbformat": 4,
  "nbformat_minor": 0,
  "metadata": {
    "colab": {
      "name": "2_Images_Classifications (1).ipynb",
      "provenance": [],
      "private_outputs": true,
      "collapsed_sections": [],
      "include_colab_link": true
    },
    "kernelspec": {
      "name": "python3",
      "display_name": "Python 3"
    },
    "accelerator": "GPU"
  },
  "cells": [
    {
      "cell_type": "markdown",
      "metadata": {
        "id": "view-in-github",
        "colab_type": "text"
      },
      "source": [
        "<a href=\"https://colab.research.google.com/github/mohammedameen2020-Civil/Defect-pathholes-Crack-Detection/blob/master/2_Images_Classifications_(1).ipynb\" target=\"_parent\"><img src=\"https://colab.research.google.com/assets/colab-badge.svg\" alt=\"Open In Colab\"/></a>"
      ]
    },
    {
      "cell_type": "code",
      "metadata": {
        "id": "5RuNyPMn7IcH",
        "colab_type": "code",
        "colab": {}
      },
      "source": [
        "!unzip /content/111880_269359_upload_seg_train.zip"
      ],
      "execution_count": null,
      "outputs": []
    },
    {
      "cell_type": "code",
      "metadata": {
        "id": "4R8Y2ctMljYf",
        "colab_type": "code",
        "colab": {}
      },
      "source": [
        "!unzip /content/111880_269359_upload_seg_test.zip"
      ],
      "execution_count": null,
      "outputs": []
    },
    {
      "cell_type": "code",
      "metadata": {
        "id": "I3pIZlQqljls",
        "colab_type": "code",
        "colab": {}
      },
      "source": [
        "!unzip /content/111880_269359_upload_seg_pred.zip"
      ],
      "execution_count": null,
      "outputs": []
    },
    {
      "cell_type": "code",
      "metadata": {
        "id": "P_Oj0xgrlb_i",
        "colab_type": "code",
        "colab": {}
      },
      "source": [
        "import pandas as pd\n",
        "import numpy as np\n",
        "import matplotlib.pyplot as plt\n",
        "%matplotlib inline\n",
        "import seaborn as sns\n",
        "sns.set(style=\"whitegrid\")\n",
        "import os\n",
        "import glob as gb\n",
        "import cv2\n",
        "import tensorflow as tf\n",
        "import keras"
      ],
      "execution_count": null,
      "outputs": []
    },
    {
      "cell_type": "code",
      "metadata": {
        "id": "qeX0ehdvtaw2",
        "colab_type": "code",
        "colab": {}
      },
      "source": [
        "\n",
        "### for Kaggle\n",
        "trainpath = ''\n",
        "testpath = ''\n",
        "predpath = ''\n",
        "\n",
        "### for Jupyter\n",
        "# trainpath = ''\n",
        "# testpath = ''\n",
        "# predpath = ''"
      ],
      "execution_count": null,
      "outputs": []
    },
    {
      "cell_type": "code",
      "metadata": {
        "id": "XKh569UgtdJ3",
        "colab_type": "code",
        "colab": {}
      },
      "source": [
        "for folder in  os.listdir(trainpath + 'seg_train') : \n",
        "    files = gb.glob(pathname= str( trainpath +'seg_train//' + folder + '/*.jpg'))\n",
        "    print(f'For training data , found {len(files)} in folder {folder}')"
      ],
      "execution_count": null,
      "outputs": []
    },
    {
      "cell_type": "code",
      "metadata": {
        "id": "n3mL5PUGtfuH",
        "colab_type": "code",
        "colab": {}
      },
      "source": [
        "for folder in  os.listdir(testpath +'seg_test') : \n",
        "    files = gb.glob(pathname= str( testpath +'seg_test//' + folder + '/*.jpg'))\n",
        "    print(f'For testing data , found {len(files)} in folder {folder}')"
      ],
      "execution_count": null,
      "outputs": []
    },
    {
      "cell_type": "code",
      "metadata": {
        "id": "WkVHtBcUtip2",
        "colab_type": "code",
        "colab": {}
      },
      "source": [
        "files = gb.glob(pathname= str(predpath +'seg_pred/*.jpg'))\n",
        "print(f'For Prediction data , found {len(files)}')"
      ],
      "execution_count": null,
      "outputs": []
    },
    {
      "cell_type": "code",
      "metadata": {
        "id": "ydZ9oNFJtkjG",
        "colab_type": "code",
        "colab": {}
      },
      "source": [
        "code = {'buildings':0 ,'forest':1,'glacier':2,'mountain':3,'sea':4,'street':5}\n",
        "\n",
        "def getcode(n) : \n",
        "    for x , y in code.items() : \n",
        "        if n == y : \n",
        "            return x"
      ],
      "execution_count": null,
      "outputs": []
    },
    {
      "cell_type": "code",
      "metadata": {
        "id": "m_VXJelXtoJo",
        "colab_type": "code",
        "colab": {}
      },
      "source": [
        "size = []\n",
        "for folder in  os.listdir(trainpath +'seg_train') : \n",
        "    files = gb.glob(pathname= str( trainpath +'seg_train//' + folder + '/*.jpg'))\n",
        "    for file in files: \n",
        "        image = plt.imread(file)\n",
        "        size.append(image.shape)\n",
        "pd.Series(size).value_counts()"
      ],
      "execution_count": null,
      "outputs": []
    },
    {
      "cell_type": "code",
      "metadata": {
        "id": "_MuZVb2jtqOp",
        "colab_type": "code",
        "colab": {}
      },
      "source": [
        "size = []\n",
        "for folder in  os.listdir(testpath +'seg_test') : \n",
        "    files = gb.glob(pathname= str( testpath +'seg_test//' + folder + '/*.jpg'))\n",
        "    for file in files: \n",
        "        image = plt.imread(file)\n",
        "        size.append(image.shape)\n",
        "pd.Series(size).value_counts()"
      ],
      "execution_count": null,
      "outputs": []
    },
    {
      "cell_type": "code",
      "metadata": {
        "id": "lW34vVm6ttYr",
        "colab_type": "code",
        "colab": {}
      },
      "source": [
        "size = []\n",
        "for folder in  os.listdir(predpath +'seg_pred') : \n",
        "  files = gb.glob(pathname= str(predpath +'seg_pred//' + folder + '/*.jpg'))\n",
        "  for file in files: \n",
        "      image = plt.imread(file)\n",
        "      size.append(image.shape)\n",
        "pd.Series(size).value_counts()"
      ],
      "execution_count": null,
      "outputs": []
    },
    {
      "cell_type": "code",
      "metadata": {
        "id": "tS0Qi56Btwpx",
        "colab_type": "code",
        "colab": {}
      },
      "source": [
        "s = 100"
      ],
      "execution_count": null,
      "outputs": []
    },
    {
      "cell_type": "code",
      "metadata": {
        "id": "gqAPNXHst0qE",
        "colab_type": "code",
        "colab": {}
      },
      "source": [
        "X_train = []\n",
        "y_train = []\n",
        "for folder in  os.listdir(trainpath +'seg_train') : \n",
        "    files = gb.glob(pathname= str( trainpath +'seg_train//' + folder + '/*.jpg'))\n",
        "    for file in files: \n",
        "        image = cv2.imread(file)\n",
        "        image_array = cv2.resize(image , (s,s))\n",
        "        X_train.append(list(image_array))\n",
        "        y_train.append(code[folder])"
      ],
      "execution_count": null,
      "outputs": []
    },
    {
      "cell_type": "code",
      "metadata": {
        "id": "rQvEqPEtt3GU",
        "colab_type": "code",
        "colab": {}
      },
      "source": [
        "print(f'we have {len(X_train)} items in X_train')\n"
      ],
      "execution_count": null,
      "outputs": []
    },
    {
      "cell_type": "code",
      "metadata": {
        "id": "r_AdNjpNt68F",
        "colab_type": "code",
        "colab": {}
      },
      "source": [
        "plt.figure(figsize=(20,20))\n",
        "for n , i in enumerate(list(np.random.randint(0,len(X_train),36))) : \n",
        "    plt.subplot(6,6,n+1)\n",
        "    plt.imshow(X_train[i])   \n",
        "    plt.axis('off')\n",
        "    plt.title(getcode(y_train[i]))"
      ],
      "execution_count": null,
      "outputs": []
    },
    {
      "cell_type": "code",
      "metadata": {
        "id": "VpOiG3l7t9pf",
        "colab_type": "code",
        "colab": {}
      },
      "source": [
        "X_test = []\n",
        "y_test = []\n",
        "for folder in  os.listdir(testpath +'seg_test') : \n",
        "    files = gb.glob(pathname= str(testpath + 'seg_test//' + folder + '/*.jpg'))\n",
        "    for file in files: \n",
        "        image = cv2.imread(file)\n",
        "        image_array = cv2.resize(image , (s,s))\n",
        "        X_test.append(list(image_array))\n",
        "        y_test.append(code[folder])"
      ],
      "execution_count": null,
      "outputs": []
    },
    {
      "cell_type": "code",
      "metadata": {
        "id": "KLd2UO25uE2m",
        "colab_type": "code",
        "colab": {}
      },
      "source": [
        "print(f'we have {len(X_test)} items in X_test')\n"
      ],
      "execution_count": null,
      "outputs": []
    },
    {
      "cell_type": "code",
      "metadata": {
        "id": "UG9XY2FouGyH",
        "colab_type": "code",
        "colab": {}
      },
      "source": [
        "plt.figure(figsize=(20,20))\n",
        "for n , i in enumerate(list(np.random.randint(0,len(X_test),36))) : \n",
        "    plt.subplot(6,6,n+1)\n",
        "    plt.imshow(X_test[i])    \n",
        "    plt.axis('off')\n",
        "    plt.title(getcode(y_test[i]))"
      ],
      "execution_count": null,
      "outputs": []
    },
    {
      "cell_type": "code",
      "metadata": {
        "id": "b1Zs3AhquIud",
        "colab_type": "code",
        "colab": {}
      },
      "source": [
        "\n",
        "\n",
        "X_pred = []\n",
        "files = gb.glob(pathname= str(predpath + 'seg_pred/*.jpg'))\n",
        "for file in files: \n",
        "    image = cv2.imread(file)\n",
        "    image_array = cv2.resize(image , (s,s))\n",
        "    X_pred.append(list(image_array))      "
      ],
      "execution_count": null,
      "outputs": []
    },
    {
      "cell_type": "code",
      "metadata": {
        "id": "cS09S2Z3uPPQ",
        "colab_type": "code",
        "colab": {}
      },
      "source": [
        "print(f'we have {len(X_pred)} items in X_pred')"
      ],
      "execution_count": null,
      "outputs": []
    },
    {
      "cell_type": "code",
      "metadata": {
        "id": "4BpBWcRouRZ8",
        "colab_type": "code",
        "colab": {}
      },
      "source": [
        "plt.figure(figsize=(20,20))\n",
        "for n , i in enumerate(list(np.random.randint(0,len(X_pred),36))) : \n",
        "    plt.subplot(6,6,n+1)\n",
        "    plt.imshow(X_pred[i])    \n",
        "    plt.axis('off')"
      ],
      "execution_count": null,
      "outputs": []
    },
    {
      "cell_type": "code",
      "metadata": {
        "id": "z0WVfC9JuTi4",
        "colab_type": "code",
        "colab": {}
      },
      "source": [
        "X_train = np.array(X_train)\n",
        "X_test = np.array(X_test)\n",
        "X_pred_array = np.array(X_pred)\n",
        "y_train = np.array(y_train)\n",
        "y_test = np.array(y_test)\n",
        "\n",
        "print(f'X_train shape  is {X_train.shape}')\n",
        "print(f'X_test shape  is {X_test.shape}')\n",
        "print(f'X_pred shape  is {X_pred_array.shape}')\n",
        "print(f'y_train shape  is {y_train.shape}')\n",
        "print(f'y_test shape  is {y_test.shape}')"
      ],
      "execution_count": null,
      "outputs": []
    },
    {
      "cell_type": "code",
      "metadata": {
        "id": "5ThJDbGGuxuZ",
        "colab_type": "code",
        "colab": {}
      },
      "source": [
        "KerasModel = keras.models.Sequential([\n",
        "        keras.layers.Conv2D(200,kernel_size=(3,3),activation='relu',input_shape=(s,s,3)),\n",
        "        keras.layers.Conv2D(150,kernel_size=(3,3),activation='relu'),\n",
        "        keras.layers.MaxPool2D(4,4),\n",
        "        keras.layers.Conv2D(120,kernel_size=(3,3),activation='relu'),    \n",
        "        keras.layers.Conv2D(80,kernel_size=(3,3),activation='relu'),    \n",
        "        keras.layers.Conv2D(50,kernel_size=(3,3),activation='relu'),\n",
        "        keras.layers.MaxPool2D(4,4),\n",
        "        keras.layers.Flatten() ,    \n",
        "        keras.layers.Dense(120,activation='relu') ,    \n",
        "        keras.layers.Dense(100,activation='relu') ,    \n",
        "        keras.layers.Dense(50,activation='relu') ,        \n",
        "        keras.layers.Dropout(rate=0.5) ,            \n",
        "        keras.layers.Dense(6,activation='softmax') ,    \n",
        "        ])"
      ],
      "execution_count": null,
      "outputs": []
    },
    {
      "cell_type": "code",
      "metadata": {
        "id": "De-ERlNTu9fq",
        "colab_type": "code",
        "colab": {}
      },
      "source": [
        "KerasModel.compile(optimizer ='adam',loss='sparse_categorical_crossentropy',metrics=['accuracy'])\n"
      ],
      "execution_count": null,
      "outputs": []
    },
    {
      "cell_type": "code",
      "metadata": {
        "id": "Ock0MtgovHyg",
        "colab_type": "code",
        "colab": {}
      },
      "source": [
        "print('Model Details are : ')\n",
        "print(KerasModel.summary())"
      ],
      "execution_count": null,
      "outputs": []
    },
    {
      "cell_type": "code",
      "metadata": {
        "id": "x09Yu-c1vNk8",
        "colab_type": "code",
        "colab": {}
      },
      "source": [
        "epochs = 70\n",
        "ThisModel = KerasModel.fit(X_train, y_train, epochs=epochs,batch_size=64,verbose=1)"
      ],
      "execution_count": null,
      "outputs": []
    },
    {
      "cell_type": "code",
      "metadata": {
        "id": "L6u6zfuTtmYZ",
        "colab_type": "code",
        "colab": {}
      },
      "source": [
        "ModelLoss, ModelAccuracy = KerasModel.evaluate(X_test, y_test)\n",
        "\n",
        "print('Test Loss is {}'.format(ModelLoss))\n",
        "print('Test Accuracy is {}'.format(ModelAccuracy ))"
      ],
      "execution_count": null,
      "outputs": []
    },
    {
      "cell_type": "code",
      "metadata": {
        "id": "CNn-ZHOBF-6A",
        "colab_type": "code",
        "colab": {}
      },
      "source": [
        "y_pred = KerasModel.predict(X_test)\n",
        "\n",
        "print('Prediction Shape is {}'.format(y_pred.shape))"
      ],
      "execution_count": null,
      "outputs": []
    },
    {
      "cell_type": "code",
      "metadata": {
        "id": "ke9tg3GaGHXB",
        "colab_type": "code",
        "colab": {}
      },
      "source": [
        "y_result = KerasModel.predict(X_pred_array)\n",
        "\n",
        "print('Prediction Shape is {}'.format(y_result.shape))"
      ],
      "execution_count": null,
      "outputs": []
    },
    {
      "cell_type": "code",
      "metadata": {
        "id": "u0eKtyEWGWRP",
        "colab_type": "code",
        "colab": {}
      },
      "source": [
        "plt.figure(figsize=(20,20))\n",
        "for n , i in enumerate(list(np.random.randint(0,len(X_pred),36))) : \n",
        "    plt.subplot(6,6,n+1)\n",
        "    plt.imshow(X_pred[i])    \n",
        "    plt.axis('off')\n",
        "    plt.title(getcode(np.argmax(y_result[i])))"
      ],
      "execution_count": null,
      "outputs": []
    },
    {
      "cell_type": "code",
      "metadata": {
        "id": "axKZ5sIcGcQu",
        "colab_type": "code",
        "colab": {}
      },
      "source": [
        ""
      ],
      "execution_count": null,
      "outputs": []
    }
  ]
}